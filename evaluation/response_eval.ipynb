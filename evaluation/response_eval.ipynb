{
 "cells": [
  {
   "cell_type": "markdown",
   "metadata": {},
   "source": [
    "### Load test dataset and fetch CaLM.ai answer"
   ]
  },
  {
   "cell_type": "code",
   "execution_count": 21,
   "metadata": {},
   "outputs": [
    {
     "name": "stdout",
     "output_type": "stream",
     "text": [
      "                                            Question  \\\n",
      "0  Can you recommend activities that are suitable...   \n",
      "1  What are the benefits of hospice care for indi...   \n",
      "2  How can I navigate difficult family dynamics w...   \n",
      "3              What are the early signs of dementia?   \n",
      "4  How does palliative care differ from hospice, ...   \n",
      "\n",
      "                                             Context  \\\n",
      "0  Content: What are some tips for Finding Activi...   \n",
      "1  Content: How to be an effective caregiver in t...   \n",
      "2  Content: How to Handle Seemingly Manipulative ...   \n",
      "3  Content: None The early warning signs of demen...   \n",
      "4  Content: What end-of-life care options are ava...   \n",
      "\n",
      "                                              Answer  \n",
      "0  When looking for activities for someone with d...  \n",
      "1  Hospice care offers several benefits for indiv...  \n",
      "2  When navigating difficult family dynamics whil...  \n",
      "3  The early signs of dementia can vary from pers...  \n",
      "4  Palliative care and hospice care are both form...  \n"
     ]
    }
   ],
   "source": [
    "import pandas as pd\n",
    "\n",
    "test_df = pd.read_parquet(\"./data/66-test-dataset.parquet\")\n",
    "\n",
    "print(test_df.head())"
   ]
  },
  {
   "cell_type": "markdown",
   "metadata": {},
   "source": [
    "### Calculate Metrics scores"
   ]
  },
  {
   "cell_type": "code",
   "execution_count": 19,
   "metadata": {},
   "outputs": [
    {
     "name": "stdout",
     "output_type": "stream",
     "text": [
      "BLEU: {'bleu': 0.8408964152537145, 'precisions': [0.875, 0.8571428571428571, 0.8333333333333334, 0.8], 'brevity_penalty': 1.0, 'length_ratio': 1.0, 'translation_length': 8, 'reference_length': 8}\n"
     ]
    }
   ],
   "source": [
    "from tools.calculators import EvalCalculatorFactory\n",
    "\n",
    "calculator = EvalCalculatorFactory(predictions=[\"He's happy because today is a sunny day\"], references=[\"I'm happy because today is a sunny day\"])\n",
    "\n",
    "print(f\"BLEU: {calculator.bleu()}\")"
   ]
  },
  {
   "cell_type": "code",
   "execution_count": 1,
   "metadata": {},
   "outputs": [
    {
     "name": "stderr",
     "output_type": "stream",
     "text": [
      "/home/yuz211/CaLM/.venv/lib/python3.12/site-packages/tqdm/auto.py:21: TqdmWarning: IProgress not found. Please update jupyter and ipywidgets. See https://ipywidgets.readthedocs.io/en/stable/user_install.html\n",
      "  from .autonotebook import tqdm as notebook_tqdm\n"
     ]
    },
    {
     "data": {
      "text/plain": [
       "[]"
      ]
     },
     "execution_count": 1,
     "metadata": {},
     "output_type": "execute_result"
    }
   ],
   "source": [
    "import evaluate\n",
    "\n",
    "evaluate.list_evaluation_modules(module_type=\"measurement\", include_community=False, with_details=True)"
   ]
  },
  {
   "cell_type": "code",
   "execution_count": 4,
   "metadata": {},
   "outputs": [
    {
     "name": "stdout",
     "output_type": "stream",
     "text": [
      "BLEU (Bilingual Evaluation Understudy) is an algorithm for evaluating the quality of text which has been machine-translated from one natural language to another.\n",
      "Quality is considered to be the correspondence between a machine's output and that of a human: \"the closer a machine translation is to a professional human translation, the better it is\"\n",
      "– this is the central idea behind BLEU. BLEU was one of the first metrics to claim a high correlation with human judgements of quality, and remains one of the most popular automated and inexpensive metrics.\n",
      "\n",
      "Scores are calculated for individual translated segments—generally sentences—by comparing them with a set of good quality reference translations.\n",
      "Those scores are then averaged over the whole corpus to reach an estimate of the translation's overall quality.\n",
      "Neither intelligibility nor grammatical correctness are not taken into account.\n",
      "\n"
     ]
    }
   ],
   "source": [
    "bleu = evaluate.load(\"bleu\")\n",
    "\n",
    "print(bleu.description)"
   ]
  },
  {
   "cell_type": "code",
   "execution_count": 7,
   "metadata": {},
   "outputs": [
    {
     "data": {
      "text/plain": [
       "[{'predictions': Value(dtype='string', id='sequence'),\n",
       "  'references': Sequence(feature=Value(dtype='string', id='sequence'), length=-1, id='references')},\n",
       " {'predictions': Value(dtype='string', id='sequence'),\n",
       "  'references': Value(dtype='string', id='sequence')}]"
      ]
     },
     "execution_count": 7,
     "metadata": {},
     "output_type": "execute_result"
    }
   ],
   "source": [
    "bleu.features"
   ]
  }
 ],
 "metadata": {
  "kernelspec": {
   "display_name": ".venv",
   "language": "python",
   "name": "python3"
  },
  "language_info": {
   "codemirror_mode": {
    "name": "ipython",
    "version": 3
   },
   "file_extension": ".py",
   "mimetype": "text/x-python",
   "name": "python",
   "nbconvert_exporter": "python",
   "pygments_lexer": "ipython3",
   "version": "3.12.10"
  }
 },
 "nbformat": 4,
 "nbformat_minor": 2
}
