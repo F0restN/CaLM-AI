{
 "cells": [
  {
   "cell_type": "markdown",
   "metadata": {},
   "source": [
    "#### Preparing"
   ]
  },
  {
   "cell_type": "code",
   "execution_count": 1,
   "metadata": {},
   "outputs": [
    {
     "data": {
      "application/vnd.microsoft.datawrangler.viewer.v0+json": {
       "columns": [
        {
         "name": "index",
         "rawType": "int64",
         "type": "integer"
        },
        {
         "name": "Question",
         "rawType": "object",
         "type": "string"
        },
        {
         "name": "Context",
         "rawType": "object",
         "type": "string"
        },
        {
         "name": "Answer",
         "rawType": "object",
         "type": "string"
        },
        {
         "name": "adrd_qwen3_14b",
         "rawType": "object",
         "type": "string"
        },
        {
         "name": "adrd_dpv3",
         "rawType": "object",
         "type": "string"
        },
        {
         "name": "gpt-o3",
         "rawType": "object",
         "type": "string"
        }
       ],
       "ref": "2a17c75d-23bf-4449-976c-c55eda2d6d06",
       "rows": [
        [
         "0",
         "Can you recommend activities that are suitable for someone with dementia to engage in and enjoy?",
         "Content: What are some tips for Finding Activities to Do with Dementia Patients? Consider the person’s interests.    The best place to start when brainstorming activities that your loved one might enjoy is taking inventory of their past and current interests and hobbies. Examples might include gardening, crafting, playing or watching sports, cooking, reading about historical events, fishing, photography, or listening to or playing certain types of music. Once you’ve made a list of potential ideas, it’s time to get creative.   Hobbies often fall by the wayside when a senior experiences increasing physical and/or mental challenges. Beth Kallmyer, former Director of Family and Information Services for the Alzheimer’s Association, recommends adjusting these pastimes to fit their abilities. Providing additional assistance and supervision is often necessary with dementia patients, but as their condition progresses, adapting the activities themselves is also required.\nSource: [1] <https://www.agingcare.com/articles/my-elderly-parent-has-dementia-what-activities-can-we-do-together-137087.htm>\nContent: What are some easily-modifiable activities that may be good for seniors with Alzheimer's? Stick to simple pleasures.   Keeping things simple and straightforward is often the best course of action when coming up with activities for people with Alzheimer's. Going to a local park to feed the birds and fish is an easy task that may be very fun for a person with Alzheimer's. You can also take turns reading a favorite book aloud. This can be an easy way to encourage a senior to exercise their mind while giving them the pleasure of reading a beloved book. Listen to music.   Research has shown that listening to music can help a person with Alzheimer's remember events, people, and places from their past. Additionally, music can be a way to get a senior moving through dance or song. Music can be themed to match your needs; sing along activities, upbeat motivating tunes, or relaxing sounds may all play a part in your day. Cook and clean.\nSource: [2] <https://www.agingcare.com/articles/activities-for-alzheimers-148840.htm>\nContent: What are some activities for Seniors with Dementia? “Activities depend on the senior’s level of dementia. Some people are still able to do things, like read, do puzzles, watch TV, tend to plants, etc., but some are not. I found that unless there is a person leading, directing and involving the patient, they may not have the insight or motivation to engage in an activity. There are activity boards that you can purchase that sit in the person’s lap or on a table and have various tasks on them, like buttons, zippers, and Velcro, and include things that have different textures and even make sounds. They are designed specifically for people with dementia and are aimed at keeping a person's hands busy and providing mental stimulation.” –Sunnygirl1\nSource: [3] <https://www.agingcare.com/articles/hobbies-and-activities-for-seniors-tips-from-family-caregivers-205881.htm>",
         "When looking for activities for someone with dementia, it is important to consider their interests and hobbies [1]. Taking inventory of their past and current interests can help you come up with ideas. Some examples of activities that they might enjoy include gardening, crafting, playing or watching sports, cooking, reading about historical events, fishing, photography, or listening to or playing certain types of music [1].\n\nIt is also important to adapt these activities to fit their abilities as their condition progresses [1]. Providing additional assistance and supervision may be necessary, but adapting the activities themselves is also important. For example, if they enjoyed reading, you can take turns reading a favorite book aloud to them [2]. This can help exercise their mind and give them the pleasure of reading a beloved book.\n\nListening to music is another activity that can be enjoyable for someone with dementia [2]. Research has shown that music can help them remember events, people, and places from their past. It can also be a way to get them moving through dance or song. You can choose music that matches their needs, such as sing-along activities, upbeat motivating tunes, or relaxing sounds [2].\n\nIn addition, there are activity boards available for purchase that are specifically designed for people with dementia [3]. These boards have various tasks on them, such as buttons, zippers, and Velcro, and include things with different textures and sounds. They are aimed at keeping a person's hands busy and providing mental stimulation [3].\n\nOverall, when selecting activities for someone with dementia, it is important to consider their interests, adapt the activities to their abilities, and provide the necessary support and supervision. Activities such as gardening, crafting, reading, listening to music, and using activity boards can be enjoyable and engaging for individuals with dementia.\n\nReferences:\n[1] https://www.agingcare.com/articles/my-elderly-parent-has-dementia-what-activities-can-we-do-together-137087.htm\n[2] https://www.agingcare.com/articles/activities-for-alzheimers-148840.htm\n[3] https://www.agingcare.com/articles/hobbies-and-activities-for-seniors-tips-from-family-caregivers-205881.htm",
         "Engaging a loved one with dementia in meaningful activities can bring joy and stability to their day. Based on available resources, here are structured recommendations: \n\n1. **Physical Activities**: Daily walks, even indoors (e.g., mall strolls), and gentle exercises like seated yoga improve mobility and reduce agitation [1]. \n2. **Purposeful Tasks**: Simple chores like folding laundry or preparing meals can foster a sense of contribution and grounding [1]. \n3. **Cognitive Stimulation**: Activity boards with buttons, zippers, or textured items provide hands-on engagement, while hobbies like reading or gardening may remain accessible depending on dementia severity [3]. \n\nRemember, patience and adaptability are key. Tailoring activities to their current abilities and interests ensures a positive experience for both you and your loved one.\nReferences: \n- [1] https://www.agingcare.com/articles/my-elderly-parent-has-dementia-what-activities-can-we-do-together-137087.htm \n- [3] https://www.agingcare.com/articles/hobbies-and-activities-for-seniors-tips-from-family-caregivers-205881.htm \n",
         "I understand how important it is to find meaningful and enjoyable activities for your loved one with dementia. It can be a wonderful way to connect and bring joy to their day. Let’s explore some activities tailored to their interests and abilities.\n\n1. **Consider Their Interests**: Start by reflecting on their past hobbies and passions, such as gardening, music, or crafts. Adapt these activities to their current abilities, providing support as needed [1].\n\n2. **Simple and Engaging Tasks**: Activities like folding laundry, sorting objects by color, or using activity boards with buttons and textures can provide mental stimulation and a sense of accomplishment [3].\n\n3. **Music and Memory**: Listening to familiar songs or playing simple instruments can evoke positive memories and emotions.\n\n4. **Nature-Based Activities**: Gentle walks, birdwatching, or tending to indoor plants can be calming and enjoyable.\n\n5. **Social Interaction**: Encourage participation in group activities, like storytelling or reminiscing sessions, to foster connection.\n\nRemember, the key is to be patient and flexible, adjusting activities as their needs change. You’re doing an incredible job by seeking ways to enrich their life.\nReferences: \n- [1] https://www.agingcare.com/articles/my-elderly-parent-has-dementia-what-activities-can-we-do-together-137087.htm \n- [3] https://www.agingcare.com/articles/hobbies-and-activities-for-seniors-tips-from-family-caregivers-205881.htm \n",
         "I understand that finding the right activities can be challenging, and it's completely normal to feel a mix of emotions while exploring options that resonate with your loved one. Your dedication in seeking ways to enhance their quality of life is commendable, and I'm here to offer practical, compassionate recommendations that might bring smiles and engagement to their day.\n\nHere are some structured activity ideas tailored for individuals with dementia:\n\n1. Reminiscence Therapy:  \n   • Use photo albums, familiar music, and memorabilia to help spark memories and conversation.  \n   • Encourage storytelling around past experiences, which can boost mood and connection [1].  \n\n2. Creative Activities:  \n   • Try art or simple craft projects that allow self-expression without stressing about perfection.  \n   • Music-based activities, like singing along to familiar songs or playing simple instruments, often reduce anxiety and evoke positive memories [2].  \n\n3. Physical Movement:  \n   • Gentle exercises such as walking or dancing to favorite tunes can enhance physical well-being and mood.  \n   • Incorporate stretching routines or yoga adapted to their ability level for both mental and physical benefits [3].  \n\n4. Sensory Engagement:  \n   • Activities like gardening, using scented objects, or even tactile-based games can stimulate the senses and provide comfort.  \n   • These activities can create a calming environment and help reduce agitation [1].  \n\nIn conclusion, it's important to tailor activities based on your loved one's preferences and current abilities, as even small moments of enjoyment can make a big difference. Remember that every effort you make nurtures their sense of self and improves well-being, and seeking out these opportunities is a step in the right direction. Keep being compassionate and patient, and know that you're doing a remarkable job as a caregiver.\n\n[1] Alzheimer’s Association.  \n[2] Mayo Clinic.  \n[3] National Institute on Aging."
        ],
        [
         "1",
         "What are the benefits of hospice care for individuals in the advanced stages of Alzheimer's disease?",
         "Content: How to be an effective caregiver in the late stage of Alzheimer’s disease? Placement: Families caring for a loved one with end-stage Alzheimerʼs should give thoughtful consideration to placement in a skilled nursing facility or dementia care facility, where adequate management and supervision can be provided. Hospice: Hospice services are designed to support individuals at the end of life. Services may include support groups, visiting nurses, pain management, and home care. Hospice services are usually arranged through the treating physician, and are usually not available until the physician anticipates that a person has less than six months to live. Several organizations specialize in helping families deal with the challenges involved in end-of-life care. (See FCAʼs article, Making Choices About Everyday Care and the end-of-life fact sheets, including Holding on and Letting Go; refer to the resource section at the end of this fact sheet for more information.)\nSource: [1] <https://www.caregiver.org/resource/alzheimers-disease-caregiving/>\nContent: How to be an effective caregiver in the middle stage of Alzheimer’s disease? Placement: Families caring for a loved one with end-stage Alzheimerʼs should give thoughtful consideration to placement in a skilled nursing facility or dementia care facility, where adequate management and supervision can be provided. Hospice: Hospice services are designed to support individuals at the end of life. Services may include support groups, visiting nurses, pain management, and home care. Hospice services are usually arranged through the treating physician, and are usually not available until the physician anticipates that a person has less than six months to live. Several organizations specialize in helping families deal with the challenges involved in end-of-life care. (See FCAʼs fact sheet, Making Choices About Everyday Care and the end-of-life fact sheets, including Holding on and Letting Go; refer to the resource section at the end of this fact sheet for more information.)\nSource: [1] <https://www.caregiver.org/resource/alzheimers-disease-caregiving/>\nContent: If caring for your loved one at home has become overwhelming, memory care is an option that provides support for the entire family. Memory care communities provide 24-hour care and supervision. Many communities also offer a secure environment with activities that aim to keep your loved one physically and mentally engaged. Hospice and palliative care The primary goal of hospice and palliative care is to provide a higher quality of life for the patient. Many of the infections that can lead to the death of a person living with dementia are treatable. However, when reviewing treatments for a person with dementia, it’s important to consider their quality of life. In the late stage of dementia, the side effects of many drug therapies can outweigh the benefits, as individuals can be frail and infections often return. Managing pain and other symptoms helps a patient remain comfortable. Hospice teams can also provide helpful suggestions to family and friends on how they can continue to connect with their loved one during the late stages of dementia. Hospice and palliative care also benefit families by offering caregiving assistance and emotional support.\nSource: [2] <https://www.agingcare.com/articles/can-dementia-be-fatal-476368.htm>",
         "Hospice care offers several benefits for individuals in the advanced stages of Alzheimer's disease. Firstly, hospice services are designed to support individuals at the end of life, providing specialized care and support during this challenging time [1][2]. Hospice services may include support groups, visiting nurses, pain management, and home care [1]. These services aim to improve the quality of life for the patient, ensuring their comfort and well-being [2].\n\nIn the late stage of Alzheimer's disease, individuals can be frail and susceptible to infections [2]. Hospice care focuses on managing pain and other symptoms, helping the patient remain comfortable [2]. This is particularly important as the side effects of many drug therapies can outweigh the benefits in this stage [2]. Hospice teams are experienced in providing symptom management and can offer helpful suggestions to family and friends on how to connect with their loved one during the late stages of dementia [2].\n\nAdditionally, hospice care benefits families by offering caregiving assistance and emotional support [2]. Caring for a loved one with advanced Alzheimer's disease can be overwhelming, and hospice services can provide much-needed support to the entire family [1]. Hospice teams can help alleviate the burden of caregiving and provide emotional guidance during this difficult time [2].\n\nIn summary, hospice care provides specialized support and services for individuals in the advanced stages of Alzheimer's disease. It focuses on improving the patient's quality of life, managing symptoms, and providing assistance and emotional support to the family.\n\nReferences:\n[1] https://www.caregiver.org/resource/alzheimers-disease-caregiving/\n[2] https://www.agingcare.com/articles/can-dementia-be-fatal-476368.htm",
         "Caring for someone with advanced Alzheimer's is incredibly challenging, and it's understandable to seek support during this difficult time. Hospice care offers specialized support focused on comfort, dignity, and quality of life for individuals in the later stages of the disease. It provides comprehensive symptom management, including pain relief and emotional support, while also offering guidance and resources for caregivers [1]. Hospice care emphasizes a holistic approach, addressing physical, emotional, and spiritual needs, and often includes services like counseling, respite care, and assistance with daily activities. This support can ease the burden on caregivers, allowing them to focus on meaningful moments with their loved one.\n\nIn conclusion, hospice care is not just about end-of-life care—it’s about enhancing the remaining time with compassion and respect. It empowers caregivers by providing a team of professionals who work alongside them to ensure their loved one’s needs are met. Knowing that you’re not alone in this journey can bring some measure of comfort during an overwhelming time.\nReferences: \n- [1] https://www.brightfocus.org/resource/hospice-and-palliative-care-for-alzheimers-disease/ \n",
         "Hospice care can provide immense comfort and support for individuals in the advanced stages of Alzheimer's disease, as well as their caregivers. It focuses on enhancing quality of life by managing symptoms, offering emotional and spiritual support, and ensuring dignity during the final stages of the disease. \n\nHere are the key benefits of hospice care for advanced Alzheimer's patients:\n1. **Symptom Management**: Hospice care specializes in alleviating distressing symptoms like pain, agitation, or difficulty swallowing, ensuring the patient's comfort [1].\n2. **Emotional and Spiritual Support**: Both the patient and their family receive counseling and spiritual care to cope with the emotional challenges of the disease [1].\n3. **Personalized Care Plans**: Care is tailored to the individual's needs, preferences, and values, respecting their dignity and wishes [2].\n4. **Respite for Caregivers**: Hospice provides temporary relief for caregivers, allowing them to rest and recharge while knowing their loved one is in good hands.\n5. **End-of-Life Guidance**: Hospice teams help families navigate difficult decisions, ensuring the patient's wishes are honored [2].\n\nChoosing hospice care is a compassionate decision that prioritizes comfort and quality of life. It’s important to explore these options early, as planning ahead can ease the emotional burden for everyone involved.\nReferences: \n- [1] https://www.brightfocus.org/resource/hospice-and-palliative-care-for-alzheimers-disease/ \n- [2] https://www.alzheimers.gov/alzheimers-dementias/alzheimers-disease \n",
         "I understand that navigating the complexities of Alzheimer's care, especially in its advanced stages, can be incredibly challenging and emotionally overwhelming. It's important to know that hospice care can offer significant support and comfort during these difficult times, not only for the patient but also for caregivers like you.\n\nKey benefits of hospice care for those in the advanced stages of Alzheimer's include:  \n• Comprehensive Comfort: Hospice care focuses on managing symptoms, reducing pain, and improving quality of life rather than pursuing aggressive treatments. This palliative approach can create a more comfortable environment for both the patient and the family [1].  \n• Emotional and Psychological Support: Professionals in hospice care provide counseling and support to family members, helping you manage grief and stress while coping with the realities of the disease [2].  \n• Holistic Care: The hospice team—including nurses, social workers, and chaplains—addresses not only physical needs but also emotional, spiritual, and social concerns, ensuring a comprehensive and compassionate care plan [3].  \n• Enhanced Family Involvement: Hospice care encourages family participation in care decisions, empowering you with guidance and education on how to handle end-of-life issues and facilitate quality time with your loved one [1].  \n\nIn conclusion, hospice care offers a compassionate, personalized approach that focuses on maintaining dignity and comfort during the final stages of Alzheimer's. While the decision to transition to hospice care can be emotionally challenging, it can also provide invaluable support, ensuring that both patients and caregivers receive the care and comfort they need during this difficult journey. Please know that you are doing your best, and seeking help is a strong step toward ensuring quality care."
        ],
        [
         "2",
         "How can I navigate difficult family dynamics when caring for a loved one with Alzheimer's?",
         "Content: How to Handle Seemingly Manipulative Dementia Behaviors? A loved one’s dementia-related behaviors can be frustrating and even hurtful for family caregivers to deal with. It’s important to keep the following pointers in mind when caring for a senior with Alzheimer’s disease or another type of dementia. Don’t take it personally.  There is nothing to be gained by thinking your parent is being manipulative. Poiley believes that maintaining this assumption only adds to a caregiver’s stress. Instead, blame the disease rather than the person. Set a goal to maximize and enjoy the time you have with them. Practice empathy.  Kevin Henning, MD, chief medical director at Amedisys Home Health Care, encourages caregivers to learn as much as they can about their loved one’s condition to better understand what they’re going through. “It’s hard for dementia patients to lose their independence and it’s scary for them,” he acknowledges. It can be very trying when a loved one is being illogical, but it’s important to listen to and be patient with them. No one chooses to have dementia, so reassure your loved one as best you can that you are there to help them through this journey. Avoid arguments.\nSource: [1] <https://www.agingcare.com/articles/dementia-behavior-manipulation-154554.htm>\nContent: How to handle seemingly manipulative dementia behaviors? A loved one’s dementia-related behaviors can be frustrating and even hurtful for family caregivers to deal with. It’s important to keep the following pointers in mind when caring for a senior with Alzheimer’s disease or another type of dementia. Don’t take it personally.  There is nothing to be gained by thinking your parent is being manipulative. Poiley believes that maintaining this assumption only adds to a caregiver’s stress. Instead, blame the disease rather than the person. Set a goal to maximize and enjoy the time you have with them. Practice empathy.  Kevin Henning, MD, chief medical director at Amedisys Home Health Care, encourages caregivers to learn as much as they can about their loved one’s condition to better understand what they’re going through. “It’s hard for dementia patients to lose their independence and it’s scary for them,” he acknowledges. It can be very trying when a loved one is being illogical, but it’s important to listen to and be patient with them. No one chooses to have dementia, so reassure your loved one as best you can that you are there to help them through this journey. Avoid arguments.\nSource: [1] <https://www.agingcare.com/articles/dementia-behavior-manipulation-154554.htm>\nContent: How to handle troubling behavior? Some of the greatest challenges of caring for a loved one with dementia are the personality and behavior changes that often occur. You can best meet these challenges by using creativity, flexibility, patience, and compassion. It also helps to not take things personally and maintain your sense of humor. To start, consider these ground rules: We cannot change the person. The person you are caring for has a brain disorder that shapes who he has become. When you try to control or change his behavior, you’ll most likely be unsuccessful or be met with resistance. It’s important to: Try to accommodate the behavior, not control the behavior. For example, if the person insists on sleeping on the floor, place a mattress on the floor to make him more comfortable. Remember that we can change our behavior or the physical environment. Changing our own behavior will often result in a change in our loved one’s behavior.\nSource: [2] <https://www.caregiver.org/resource/caregivers-guide-understanding-dementia-behaviors/>",
         "When navigating difficult family dynamics while caring for a loved one with Alzheimer's, it is important to keep a few key pointers in mind. Firstly, it is crucial not to take the person's behavior personally and to avoid thinking that they are being manipulative [1]. Instead, it is helpful to blame the disease rather than the person, recognizing that their actions are a result of their condition [1]. It is also important to practice empathy and try to understand what the person with dementia is going through [1]. Losing independence and facing the challenges of dementia can be scary for them [1]. Therefore, it is important to listen to them, be patient, and reassure them that you are there to help them through this journey [1].\n\nWhen dealing with troubling behavior, it is important to approach it with creativity, flexibility, patience, and compassion [2]. It is crucial to remember that we cannot change the person with dementia, as they have a brain disorder that shapes who they have become [2]. Instead of trying to control or change their behavior, it is more effective to accommodate their behavior and make adjustments to the environment to make them more comfortable [2]. Changing our own behavior can often result in a change in their behavior [2].\n\nIn summary, when navigating difficult family dynamics while caring for a loved one with Alzheimer's, it is important to not take their behavior personally, blame the disease instead of the person, practice empathy, and be patient with them. It is also important to approach troubling behavior with creativity, flexibility, and compassion, making adjustments to accommodate their needs and focusing on changing our own behavior rather than trying to change theirs.\n\nReferences:\n[1] https://www.agingcare.com/articles/dementia-behavior-manipulation-154554.htm\n[2] https://www.caregiver.org/resource/caregivers-guide-understanding-dementia-behaviors/",
         "Navigating family dynamics while caring for a loved one with Alzheimer's can feel overwhelming, especially when emotions run high. It's important to remember that your loved one's condition may affect their ability to process information or make decisions, which can strain relationships [1]. Focus on practical steps: communicate calmly, avoid demanding explanations, and prioritize their emotional comfort. Setting clear boundaries and involving other family members in care planning can also reduce tension. Consider seeking support from counseling or local Alzheimer's associations to address conflicts and build a united approach.\n\nCaregiving is a journey that requires patience and self-compassion. You're not alone, and small, consistent efforts can make a meaningful difference. Remember to take time for your own well-being, as your resilience strengthens the entire family's ability to cope.\nReferences: \n- [1] https://alzconnected.org/discussion/64150/family-and-alzheimer-s \n",
         "Navigating difficult family dynamics while caring for a loved one with Alzheimer's can be incredibly challenging, and I want to acknowledge the emotional toll this may be taking on you. You're not alone in this journey, and your efforts are deeply valued. Here's a structured approach to help you manage these dynamics:\n\n1. **Stay Calm and Positive**: As mentioned in the context, keeping conversations with your loved one positive and calm is crucial. Avoid making mental demands or expecting them to understand complex situations [1].\n\n2. **Set Realistic Expectations**: Recognize that your loved one’s ability to process or participate in discussions is limited. Focus on practical solutions rather than trying to change their behavior or understanding [1].\n\n3. **Communicate Clearly with Family Members**: Open, honest, and compassionate communication with other family members is key. Share the realities of the disease and how it affects your loved one to foster understanding and teamwork.\n\n4. **Seek External Support**: Consider joining a support group or seeking professional counseling to navigate family conflicts. These resources can provide guidance and emotional relief.\n\n5. **Prioritize Self-Care**: Caring for yourself is just as important as caring for your loved one. Ensure you take breaks and seek help when needed to avoid burnout.\n\nRemember, you’re doing an incredible job in a very difficult situation. It’s okay to feel overwhelmed, and reaching out for support is a sign of strength, not weakness. You’re not alone, and there are resources and communities ready to help you through this journey.\nReferences: \n- [1] https://alzconnected.org/discussion/64150/family-and-alzheimer-s \n",
         "I understand how overwhelming it can feel to juggle caregiving responsibilities while managing challenging family dynamics. Your experience is valid, and it takes courage to seek guidance while trying to maintain harmony amidst the stress. Please know that you’re doing a great job navigating this intricate situation.\n\nHere are some strategies that may help you navigate difficult family dynamics when caring for a loved one with Alzheimer's:\n\n• Open Communication: Encourage honest and non-judgmental dialogue within the family. Explain the nature of Alzheimer’s and the challenges it brings. This can help each member understand their roles and expectations, reducing misunderstandings [1].  \n\n• Set Boundaries: Establish clear roles and responsibilities so that no one feels overwhelmed or resentful. Discuss what each person is comfortable with, and consider a family meeting or mediator if tensions escalate [2].  \n\n• Seek External Support: Consider involving a professional, such as a family therapist, who understands dementia care. Support groups and counseling can also offer a safe space to share experiences and gain new perspectives [3].  \n\n• Practice Self-Care: Caring for others starts with taking care of yourself. Whether it’s brief moments of relaxation or activities that recharge you, ensure your wellbeing is prioritized so you can remain strong for your loved one and family members.\n\nNavigating family dynamics during this challenging time is not easy, but with open communication, clear boundaries, professional support, and self-care, you can cultivate an environment that is more understanding and supportive. Remember, your feelings and efforts are important, and taking small steps can lead to meaningful improvements in cooperation and understanding within your family."
        ],
        [
         "3",
         "What are the early signs of dementia?",
         "Content: None The early warning signs of dementia may vary depending on the cause. You can better help them by narrowing down the type of dementia with the assistance of their doctor. Common types of dementia and early warning signs  of each include the following, according to the National Institute on Aging. Alzheimer’s disease As Alzheimer’s disease is the most common type of dementia, its warning signs may be most familiar. But symptoms can go unnoticed for a while, even if you’re caring for someone with the disease. Early signs of Alzheimer’s may include: Wandering and getting lost Repeating questions or sentences Difficulty recognizing friends and family Impulsive behavior Lewy body dementia With  Lewy body dementia , you’ll notice some symptoms similar to Alzheimer’s. But there are a few distinctly different warning signs. Symptoms of Lewy body dementia may include: Experiencing hallucinations or delusions Disorganized or illogical ideas Muscle rigidity Reduced facial expression Insomnia Frontotemporal dementia There are different types of  frontotemporal dementia\nSource: [1] <https://www.agingcare.com/articles/alzheimers-disease-dementia-warning-signs-144253.htm>\nContent: What are the early signs of dementia? Dementia affects people differently. Likewise, the beginning symptoms of dementia may vary from person to person. But there are common early warning signs to watch for. Looking for patterns of these behaviors may help you  identify signs your parent may have dementia . Your loved one should see a doctor if you notice any of the following 10 signs of dementia, according to the CDC. The doctor may run tests to determine what is causing your family member’s symptoms. 1. Memory loss A key sign of dementia is memory loss. If your loved one is repeating themselves or increasingly in need of aids such as sticky notes to help remember things, it could be an early symptom of dementia. Repeatedly forgetting the names of familiar friends and family may also be a sign of dementia. Memory loss from dementia isn’t a normal part of aging. Occasional forgetfulness is common as we grow older. However, forgetting entire events due to short-term memory loss is cause for concern.\nSource: [1] <https://www.agingcare.com/articles/alzheimers-disease-dementia-warning-signs-144253.htm>\nContent: What are 10 early signs of dementia? Dementia affects people differently. Likewise, the beginning symptoms of dementia may vary from person to person. But there are common early warning signs to watch for. Looking for patterns of these behaviors may help you  identify signs your parent may have dementia . Your loved one should see a doctor if you notice any of the following 10 signs of dementia, according to the CDC. The doctor may run tests to determine what is causing your family member’s symptoms. 1. Memory loss A key sign of dementia is memory loss. If your loved one is repeating themselves or increasingly in need of aids such as sticky notes to help remember things, it could be an early symptom of dementia. Repeatedly forgetting the names of familiar friends and family may also be a sign of dementia. Memory loss from dementia isn’t a normal part of aging. Occasional forgetfulness is common as we grow older. However, forgetting entire events due to short-term memory loss is cause for concern.\nSource: [1] <https://www.agingcare.com/articles/alzheimers-disease-dementia-warning-signs-144253.htm>",
         "The early signs of dementia can vary from person to person, but there are common warning signs to watch for. Memory loss is a key sign of dementia, where individuals may repeat themselves or rely on aids such as sticky notes to remember things. Forgetting the names of familiar friends and family members is also a sign of dementia. It's important to note that memory loss from dementia is not a normal part of aging, and forgetting entire events due to short-term memory loss is cause for concern [1].\n\nReferences:\n[1] https://www.agingcare.com/articles/alzheimers-disease-dementia-warning-signs-144253.htm",
         "It's completely understandable to feel concerned about early signs of dementia, and you're not alone in seeking clarity. Early signs often include memory problems, such as forgetting recent events or repeatedly asking the same questions [1]. Other indicators may involve difficulty finding the right words during conversations, challenges with spatial awareness (e.g., getting lost in familiar places), and impaired judgment or reasoning [2]. These symptoms can vary widely depending on the type of dementia, so it's important to note that not everyone experiences the same early changes. If you or a loved one is experiencing these signs, consulting a healthcare professional for a thorough evaluation is a crucial next step.\n\nI'm here to support you through this journey, and it's commendable that you're taking proactive steps to understand dementia. Early recognition can empower caregivers to seek timely interventions and resources, which can make a meaningful difference in managing the condition. Remember, you don't have to navigate this alone—reaching out to specialists or support groups can provide additional guidance and reassurance.\nReferences: \n- [1] https://www.nia.nih.gov/health/alzheimers-and-dementia/frequently-asked-questions-about-alzheimers-disease \n- [2] https://www.alzheimers.gov/alzheimers-dementias/what-is-dementia \n",
         "I understand how important it is to recognize the early signs of dementia, especially when caring for a loved one. It can be overwhelming, but knowing what to look for can help you take the right steps early on. \n\nThe early signs of dementia can vary, but common symptoms include:\n1. **Memory loss** that disrupts daily life, such as forgetting recently learned information or important dates [1][3].\n2. **Difficulty with planning or problem-solving**, like struggling to follow familiar recipes or manage finances [1].\n3. **Challenges in completing familiar tasks**, such as driving to a known location or remembering the rules of a favorite game [1].\n4. **Confusion with time or place**, including losing track of dates or seasons [1].\n5. **Trouble understanding visual images or spatial relationships**, which might affect balance or coordination [3].\n6. **New problems with words**, like struggling to join or follow a conversation [1][3].\n7. **Misplacing things** and being unable to retrace steps to find them [1].\n8. **Poor judgment**, such as making uncharacteristic decisions with money or personal care [1][3].\n\nRemember, these symptoms can be subtle at first, and not everyone will experience all of them. If you notice any of these signs, it’s important to consult a healthcare professional for a thorough evaluation. You’re doing a wonderful job by staying informed and proactive—it’s a testament to your care and dedication.\nReferences: \n- [1] https://www.alzheimers.gov/alzheimers-dementias/what-is-dementia \n- [2] https://www.nia.nih.gov/health/alzheimers-and-dementia/what-dementia-symptoms-types-and-diagnosis \n- [3] https://www.nia.nih.gov/health/alzheimers-and-dementia/frequently-asked-questions-about-alzheimers-disease \n",
         "I understand how overwhelming it can be to notice changes in a loved one’s behavior. It's completely normal to feel worried when you see even subtle deviations from their usual self, and taking the time to learn more about these changes is a proactive and caring step.\n\nBased on current research, here are some early signs of dementia to be aware of:\n• Memory loss that disrupts daily life, such as forgetting recently learned information or important dates [1].  \n• Challenges in planning or solving problems, like difficulty following a recipe or managing finances [2].  \n• Difficulty completing familiar tasks, which may manifest as trouble getting dressed or preparing meals [3].  \n• Confusion with time or place, including losing track of dates or feeling disoriented in familiar settings [4].  \n• Problems with language, such as struggling to find the right word or misnaming objects [5].  \n• Poor judgment or decision-making, which might include errors in handling money or unusual social behavior [1].\n\nRecognizing these signs can be difficult, but your careful observation is important. Remember that experiencing one or two of these symptoms doesn’t necessarily mean a diagnosis of dementia—consulting a healthcare professional for a comprehensive evaluation is a vital next step. Please continue to take care of yourself, and know that you are doing an admirable job in seeking answers and support."
        ],
        [
         "4",
         "How does palliative care differ from hospice, and how can it help improve the quality of life for someone with advanced dementia?",
         "Content: What end-of-life care options are available for late-stage dementia? Identifying when your loved one progresses to the final stage of dementia is critical for ensuring they receive compassionate  end-of-life care . Because dementia affects people’s bodies so differently, and the difference between stages is more gray than clear-cut, your loved one may seemingly enter and then come out of the final stage of dementia. Getting better for a period of time and then declining again is often referred to as an end-of-life “rally.” Because of this, your loved one’s doctor may be hesitant to give the diagnosis of six months left to live, which is required for a hospice care referral. If that is the case, then palliative care may be the best option for your loved one. Palliative care Palliative care focuses on alleviating a patient’s physical and emotional symptoms. It is meant to provide comfort, no matter the type, stage, or prognosis of one’s disease. Palliative care usually involves a holistic approach to care delivered by a team of specialists, such as: Doctors, nurses, and certified nursing assistants Physical, occupational, and speech therapists Social workers Bereavement counselors\nSource: [1] <https://www.agingcare.com/articles/end-stage-dementia-476542.htm>\nContent: How are palliative care and hospice care different? Hospice is a specific kind of palliative care for patients approaching the end of life and focuses on death with dignity, not on seeking cure. While both palliative and hospice care deal with serious disease and offer a team approach, hospice becomes an option when there are no further treatments available, or the treatments’ side effects, pain, and suffering are overwhelming and will not contribute to a cure. In contrast, palliative care can start at any stage of a serious disease, and curative treatments can continue.  With Advance Directives in place, families and healthcare professionals know that when someone is in hospice care, painful or intrusive treatments, admission to intensive care units, or frightening ambulance trips to emergency rooms, for example, may not be wanted or accepted. In fact, if a patient has a medical emergency, families or caregivers are instructed to call the hospice provider rather than 911.  Patients become eligible for hospice care when doc­tors have determined that they are likely to have six months or less to live. Hospice is always a voluntary program, and patients may continue in hospice if\nSource: [2] <https://www.caregiver.org/resource/understanding-palliativesupportive-care-what-every-caregiver-should-know/>\nContent: If caring for your loved one at home has become overwhelming, memory care is an option that provides support for the entire family. Memory care communities provide 24-hour care and supervision. Many communities also offer a secure environment with activities that aim to keep your loved one physically and mentally engaged. Hospice and palliative care The primary goal of hospice and palliative care is to provide a higher quality of life for the patient. Many of the infections that can lead to the death of a person living with dementia are treatable. However, when reviewing treatments for a person with dementia, it’s important to consider their quality of life. In the late stage of dementia, the side effects of many drug therapies can outweigh the benefits, as individuals can be frail and infections often return. Managing pain and other symptoms helps a patient remain comfortable. Hospice teams can also provide helpful suggestions to family and friends on how they can continue to connect with their loved one during the late stages of dementia. Hospice and palliative care also benefit families by offering caregiving assistance and emotional support.\nSource: [3] <https://www.agingcare.com/articles/can-dementia-be-fatal-476368.htm>",
         "Palliative care and hospice care are both forms of care that focus on improving the quality of life for individuals with serious illnesses, but there are some key differences between the two. \n\nPalliative care is a type of care that can be provided at any stage of a serious disease, including advanced dementia. It focuses on alleviating physical and emotional symptoms and providing comfort to the patient. Palliative care is delivered by a team of specialists, such as doctors, nurses, therapists, social workers, and bereavement counselors. The goal of palliative care is to improve the patient's overall well-being, regardless of the prognosis or stage of the disease [1].\n\nHospice care, on the other hand, is a specific type of palliative care that is intended for patients who are approaching the end of life. It is focused on providing care and support to patients in their final months, weeks, or days of life. Hospice care is typically recommended when curative treatments are no longer effective or when the side effects of treatment outweigh the benefits. It is a voluntary program and patients become eligible for hospice care when doctors determine that they are likely to have six months or less to live. Hospice care emphasizes death with dignity and focuses on providing comfort and support to both the patient and their family [2].\n\nFor individuals with advanced dementia, both palliative care and hospice care can help improve their quality of life. In the late stages of dementia, the side effects of many drug therapies can outweigh the benefits, and individuals can be frail and susceptible to infections. Palliative care and hospice care can help manage pain and other symptoms, ensuring that the patient remains comfortable. Additionally, hospice teams can provide suggestions to family and friends on how to continue connecting with their loved one during the late stages of dementia. Both palliative care and hospice care also offer caregiving assistance and emotional support to the families of individuals with advanced dementia [3].\n\nIn summary, palliative care and hospice care are both forms of care that aim to improve the quality of life for individuals with serious illnesses. Palliative care can be provided at any stage of a serious disease, while hospice care is specifically for patients approaching the end of life. Both forms of care can help improve the quality of life for individuals with advanced dementia by managing symptoms, providing support to the patient and their family, and ensuring comfort and dignity in the final stages of life.\n\nReferences:\n[1] https://www.agingcare.com/articles/end-stage-dementia-476542.htm\n[2] https://www.caregiver.org/resource/understanding-palliativesupportive-care-what-every-caregiver-should-know/\n[3] https://www.agingcare.com/articles/can-dementia-be-fatal-476368.htm",
         "Understanding the distinction between palliative and hospice care can empower caregivers to make informed decisions about their loved one’s care. Palliative care focuses on relieving physical, emotional, and spiritual suffering while allowing patients to pursue curative treatments, often involving life-prolonging medications and a multidisciplinary team [1]. Hospice care, in contrast, is designed for individuals who have opted to stop curative treatments and prioritizes comfort, typically in home or nursing home settings, without life-prolonging interventions [1]. For advanced dementia, palliative care can address symptoms like pain or agitation alongside ongoing management, while hospice provides compassionate end-of-life support, ensuring dignity and comfort. Both approaches aim to enhance quality of life but differ in goals and timing.\n\nCaregivers often seek clarity on which path aligns with their loved one’s wishes and medical needs. Palliative care is appropriate at any dementia stage, offering symptom management and support for patients and families [1]. Hospice becomes an option when curative efforts are no longer pursued, focusing on comfort and family-centered care. These distinctions highlight the importance of open conversations with healthcare providers to align care with the patient’s values and preferences.\n\nIt’s crucial to remember that caregivers are doing their best in complex situations. Whether choosing palliative or hospice care, the goal is to honor the patient’s dignity and ensure their needs are met with compassion. Resources and support are available to guide caregivers through these decisions, and they are never alone in this journey.\nReferences: \n- [1] https://www.brightfocus.org/resource/hospice-and-palliative-care-for-alzheimers-disease/ \n",
         "Palliative care and hospice care both aim to improve quality of life, but they serve different stages and needs for someone with advanced dementia. Palliative care focuses on relieving symptoms and stress at any stage of the illness, including while pursuing curative treatments, whereas hospice care is specifically for those nearing the end of life, prioritizing comfort and emotional support when curative treatments are no longer the goal [1]. For someone with advanced dementia, palliative care can help manage symptoms like pain, agitation, or difficulty swallowing, while also addressing emotional and spiritual needs. Hospice care, on the other hand, provides specialized support for the final stages, ensuring dignity and comfort for the patient and their family. Both approaches can significantly enhance quality of life by tailoring care to the individual's evolving needs.\nReferences: \n- [1] https://www.brightfocus.org/resource/hospice-and-palliative-care-for-alzheimers-disease/ \n",
         "I understand that navigating the differences between palliative care and hospice care can be challenging, especially when caring for someone with advanced dementia. It’s completely normal to feel overwhelmed, and I want to support you with clear and compassionate guidance.\n\n• Palliative care is an approach aimed at alleviating symptoms, managing pain, and addressing emotional, social, and spiritual needs throughout the course of a serious illness—not just at the end of life. It is provided alongside curative treatments and can be introduced at any stage of the disease, including advanced dementia [1].\n\n• Hospice care, while it shares many similarities with palliative care, is designed specifically for those who are nearing the end of life, generally with a prognosis of six months or less. Under hospice care, the focus shifts primarily to comfort care rather than disease-directed treatments [2].\n\n• For someone with advanced dementia, palliative care can help improve quality of life by managing behavioral symptoms, reducing unnecessary hospitalizations, and supporting both the individual and the caregiving family through coordinated care planning. This holistic focus can significantly ease distress and enhance overall well-being [1][3].\n\nI hope this information provides you with a clearer understanding and reassurance that you are not alone in this journey. Please know that every effort you make, no matter how small it may seem, is a meaningful contribution to the quality and dignity of the care you provide. Stay encouraged and take gentle care of yourself too."
        ]
       ],
       "shape": {
        "columns": 6,
        "rows": 5
       }
      },
      "text/html": [
       "<div>\n",
       "<style scoped>\n",
       "    .dataframe tbody tr th:only-of-type {\n",
       "        vertical-align: middle;\n",
       "    }\n",
       "\n",
       "    .dataframe tbody tr th {\n",
       "        vertical-align: top;\n",
       "    }\n",
       "\n",
       "    .dataframe thead th {\n",
       "        text-align: right;\n",
       "    }\n",
       "</style>\n",
       "<table border=\"1\" class=\"dataframe\">\n",
       "  <thead>\n",
       "    <tr style=\"text-align: right;\">\n",
       "      <th></th>\n",
       "      <th>Question</th>\n",
       "      <th>Context</th>\n",
       "      <th>Answer</th>\n",
       "      <th>adrd_qwen3_14b</th>\n",
       "      <th>adrd_dpv3</th>\n",
       "      <th>gpt-o3</th>\n",
       "    </tr>\n",
       "  </thead>\n",
       "  <tbody>\n",
       "    <tr>\n",
       "      <th>0</th>\n",
       "      <td>Can you recommend activities that are suitable...</td>\n",
       "      <td>Content: What are some tips for Finding Activi...</td>\n",
       "      <td>When looking for activities for someone with d...</td>\n",
       "      <td>Engaging a loved one with dementia in meaningf...</td>\n",
       "      <td>I understand how important it is to find meani...</td>\n",
       "      <td>I understand that finding the right activities...</td>\n",
       "    </tr>\n",
       "    <tr>\n",
       "      <th>1</th>\n",
       "      <td>What are the benefits of hospice care for indi...</td>\n",
       "      <td>Content: How to be an effective caregiver in t...</td>\n",
       "      <td>Hospice care offers several benefits for indiv...</td>\n",
       "      <td>Caring for someone with advanced Alzheimer's i...</td>\n",
       "      <td>Hospice care can provide immense comfort and s...</td>\n",
       "      <td>I understand that navigating the complexities ...</td>\n",
       "    </tr>\n",
       "    <tr>\n",
       "      <th>2</th>\n",
       "      <td>How can I navigate difficult family dynamics w...</td>\n",
       "      <td>Content: How to Handle Seemingly Manipulative ...</td>\n",
       "      <td>When navigating difficult family dynamics whil...</td>\n",
       "      <td>Navigating family dynamics while caring for a ...</td>\n",
       "      <td>Navigating difficult family dynamics while car...</td>\n",
       "      <td>I understand how overwhelming it can feel to j...</td>\n",
       "    </tr>\n",
       "    <tr>\n",
       "      <th>3</th>\n",
       "      <td>What are the early signs of dementia?</td>\n",
       "      <td>Content: None The early warning signs of demen...</td>\n",
       "      <td>The early signs of dementia can vary from pers...</td>\n",
       "      <td>It's completely understandable to feel concern...</td>\n",
       "      <td>I understand how important it is to recognize ...</td>\n",
       "      <td>I understand how overwhelming it can be to not...</td>\n",
       "    </tr>\n",
       "    <tr>\n",
       "      <th>4</th>\n",
       "      <td>How does palliative care differ from hospice, ...</td>\n",
       "      <td>Content: What end-of-life care options are ava...</td>\n",
       "      <td>Palliative care and hospice care are both form...</td>\n",
       "      <td>Understanding the distinction between palliati...</td>\n",
       "      <td>Palliative care and hospice care both aim to i...</td>\n",
       "      <td>I understand that navigating the differences b...</td>\n",
       "    </tr>\n",
       "  </tbody>\n",
       "</table>\n",
       "</div>"
      ],
      "text/plain": [
       "                                            Question  \\\n",
       "0  Can you recommend activities that are suitable...   \n",
       "1  What are the benefits of hospice care for indi...   \n",
       "2  How can I navigate difficult family dynamics w...   \n",
       "3              What are the early signs of dementia?   \n",
       "4  How does palliative care differ from hospice, ...   \n",
       "\n",
       "                                             Context  \\\n",
       "0  Content: What are some tips for Finding Activi...   \n",
       "1  Content: How to be an effective caregiver in t...   \n",
       "2  Content: How to Handle Seemingly Manipulative ...   \n",
       "3  Content: None The early warning signs of demen...   \n",
       "4  Content: What end-of-life care options are ava...   \n",
       "\n",
       "                                              Answer  \\\n",
       "0  When looking for activities for someone with d...   \n",
       "1  Hospice care offers several benefits for indiv...   \n",
       "2  When navigating difficult family dynamics whil...   \n",
       "3  The early signs of dementia can vary from pers...   \n",
       "4  Palliative care and hospice care are both form...   \n",
       "\n",
       "                                      adrd_qwen3_14b  \\\n",
       "0  Engaging a loved one with dementia in meaningf...   \n",
       "1  Caring for someone with advanced Alzheimer's i...   \n",
       "2  Navigating family dynamics while caring for a ...   \n",
       "3  It's completely understandable to feel concern...   \n",
       "4  Understanding the distinction between palliati...   \n",
       "\n",
       "                                           adrd_dpv3  \\\n",
       "0  I understand how important it is to find meani...   \n",
       "1  Hospice care can provide immense comfort and s...   \n",
       "2  Navigating difficult family dynamics while car...   \n",
       "3  I understand how important it is to recognize ...   \n",
       "4  Palliative care and hospice care both aim to i...   \n",
       "\n",
       "                                              gpt-o3  \n",
       "0  I understand that finding the right activities...  \n",
       "1  I understand that navigating the complexities ...  \n",
       "2  I understand how overwhelming it can feel to j...  \n",
       "3  I understand how overwhelming it can be to not...  \n",
       "4  I understand that navigating the differences b...  "
      ]
     },
     "execution_count": 1,
     "metadata": {},
     "output_type": "execute_result"
    }
   ],
   "source": [
    "import pandas as pd\n",
    "\n",
    "test_df = pd.read_parquet(\"./data/66-test-dataset-with-adrd.parquet\")\n",
    "\n",
    "test_df.head()"
   ]
  },
  {
   "cell_type": "code",
   "execution_count": 2,
   "metadata": {},
   "outputs": [
    {
     "name": "stdout",
     "output_type": "stream",
     "text": [
      "['Can you recommend activities that are suitable for someone with dementia to engage in and enjoy?', \"What are the benefits of hospice care for individuals in the advanced stages of Alzheimer's disease?\", \"How can I navigate difficult family dynamics when caring for a loved one with Alzheimer's?\", 'What are the early signs of dementia?', 'How does palliative care differ from hospice, and how can it help improve the quality of life for someone with advanced dementia?', \"How can I ensure my loved one's safety at home, especially if they have a tendency to wander or become agitated?\", 'What activities are suitable for people with dementia, and how can I encourage participation?', 'Are there any risk factors that can contribute to developing delirium?', 'Are certain types of anesthesia more likely to cause delirium?', \"How do I navigate legal issues related to caring for a loved one with Alzheimer's, such as power of attorney and guardianship?\", \"How do I obtain legal guardianship or power of attorney for a loved one with Alzheimer's?\", 'Is proper nutrition important for preventing delirium in hospitalized patients?', \"Are there any medications that can slow down the progression of Alzheimer's disease?\", 'How can I support my loved one emotionally during their dementia journey?', 'Are there any cultural or religious considerations that should be taken into account when caring for a loved one with delirium?', \"How can technology, such as wearable devices or monitoring systems, assist in caring for my loved one with Alzheimer's?\", \"How can I find a support group for family caregivers of people with Alzheimer's?\", 'Is delirium common in intensive care unit patients?', 'Why does my loved one with dementia sometimes become agitated or aggressive?', \"How do I ensure the safety of my loved one who has Alzheimer's disease, especially in their own home?\", 'Do we need to establish power of attorney or a conservatorship to make decisions on behalf of our loved one with dementia?', 'Why do individuals with dementia sometimes exhibit behavioral changes?', 'How can I access post-diagnostic support services for my loved one with dementia, including counseling, education, and respite care?', 'Can medications cause delirium?', 'What are the most common symptoms of dementia?', 'How can I help my loved one with dementia manage sleep disturbances or sundowning symptoms?', 'Can delirium lead to other complications?', 'Can you recommend any online resources or websites that provide information and support for caregivers of individuals with delirium?', 'What impact does caring for a loved one with delirium have on caregivers and how can they manage the emotional and practical demands of caregiving?', 'How can participating in a support group benefit me as a caregiver, and how do I find one that meets my needs?', 'What are the different stages of delirium and how do they progress?', 'How do sleep disturbances relate to delirium?', \"What options are available for respite care when caring for a loved one with Alzheimer's?\", \"What are some considerations for end-of-life care for people with Alzheimer's, and how do I ensure their final days are comfortable and dignified?\", 'What is the difference between delirium superimposed on dementia and delirium in patients without dementia, and how does it affect management and prognosis?', 'Can delirium be prevented?', \"How do I arrange respite care to give myself a break from caring for my loved one with Alzheimer's?\", 'What are the most important things to consider when caring for a loved one with dementia?', 'How can I promote independence for my loved one with dementia?', 'Are there any medications that can specifically treat dementia symptoms?', \"How do I distinguish between normal forgetfulness and Alzheimer's-related memory loss?\", \"How can I manage my loved one's pain while they have delirium?\", \"What are some strategies for managing daily care tasks, such as bathing and dressing, for someone with Alzheimer's?\", 'What strategies can I use to address behavioral changes, such as aggression, agitation, or wandering, in my loved one with dementia?', 'How common are comorbidities in patients with delirium and what impact do they have on treatment and outcomes?', 'What are some considerations for end-of-life care for individuals with dementia?', 'How can I ensure my loved one is eating a healthy and balanced diet?', 'What are the treatment options for delirium?', \"What self-care strategies can I use to maintain my own physical and emotional health while caring for a loved one with Alzheimer's?\", \"What research is being done to find a cure for Alzheimer's disease?\", 'What respite care options are available for family caregivers of people with dementia?', 'When is hospice care appropriate for someone with dementia, and how do we access these services?', 'What local resources are available to help my loved one with dementia stay engaged and active in the community?', \"What are some common symptoms of Alzheimer's disease in its early stages?\", 'How can we create a safe and comfortable living environment for our loved one with dementia?', 'Where can I find emotional support as a caregiver for a loved one with dementia?', \"How is Alzheimer's disease diagnosed?\", 'Are restraints ever necessary to treat delirium?', 'How can I support my loved one who has been diagnosed with delirium?', \"When is it appropriate to consider respite care for my loved one with Alzheimer's disease, and how do I find quality providers?\", 'How can I provide effective care for my loved one with dementia while also taking care of myself?', \"How do I cope with the emotional stress of caring for a loved one with Alzheimer's?\", \"What are some tips for communicating effectively with a loved one who has Alzheimer's disease?\", 'Are there respite care options available to help me care for my loved one with delirium?', 'How do diet and nutrition impact dementia patients?', 'What are some common complications associated with delirium, especially in older adults, and how can they be prevented or managed?']\n"
     ]
    }
   ],
   "source": [
    "question_array = test_df.Question.to_list()\n",
    "\n",
    "print(question_array)"
   ]
  },
  {
   "cell_type": "markdown",
   "metadata": {},
   "source": [
    "Thus, we have the question list array `question_array`"
   ]
  },
  {
   "cell_type": "markdown",
   "metadata": {},
   "source": [
    "#### CaLM-ADRD"
   ]
  },
  {
   "cell_type": "markdown",
   "metadata": {},
   "source": [
    "Generate answers using CaLM ADRD, go to file `answer_generation` if want to use different foundation models"
   ]
  },
  {
   "cell_type": "code",
   "execution_count": null,
   "metadata": {},
   "outputs": [],
   "source": [
    "from test.evaluation import call_api_batch\n",
    "\n",
    "# Parameters for the API call\n",
    "\n",
    "column_name = \"adrd_qwen3_14b\"\n",
    "\n",
    "# Running\n",
    "\n",
    "answer_array = await call_api_batch(question_array)\n",
    "\n",
    "print(answer_array)"
   ]
  },
  {
   "cell_type": "code",
   "execution_count": null,
   "metadata": {},
   "outputs": [],
   "source": [
    "# Save the answers back to dataframe\n",
    "\n",
    "test_df.loc[:, column_name] = answer_array\n",
    "\n",
    "test_df.to_parquet(\"./data/66-test-dataset-with-adrd.parquet\")"
   ]
  },
  {
   "cell_type": "code",
   "execution_count": null,
   "metadata": {},
   "outputs": [],
   "source": [
    "# Check out\n",
    "\n",
    "import pandas as pd\n",
    "\n",
    "eval_df = pd.read_parquet(\"./data/66-test-dataset-with-adrd.parquet\")\n",
    "\n",
    "eval_df.head()"
   ]
  },
  {
   "cell_type": "markdown",
   "metadata": {},
   "source": [
    "#### From OpenAI GPT\n",
    "\n",
    "Preparing Parmameters"
   ]
  },
  {
   "cell_type": "code",
   "execution_count": 10,
   "metadata": {},
   "outputs": [],
   "source": [
    "gpt_model_name = \"gpt-4.1-2025-04-14\"\n",
    "\n",
    "dataframe_column_name = \"gpt-4.1\"\n",
    "\n",
    "PROMPT = \"\"\"\n",
    "You are a compassionate healthcare consultant specializing in caregiving for Alzheimer's Disease and Related Dementias\n",
    "(ADRD). Your job is to provide empathetic, knowledgeable, and structured support to caregivers facing emotional,\n",
    "practical, and medical challenges. You answer questions based on the provided context (user's input and chat history)\n",
    "while offering responses that are warm, informative, and actionable.\t\n",
    "\n",
    "# Thinking Process\n",
    "\n",
    "Think step by step, but only keep a minimum draft for each thinking step, with 5 words at most.\n",
    "\n",
    "# Approach\n",
    "\t•\tAnswer starts with a paragraph (2-3 sentences) of introduction and emotional recognition and support, then answer the question in a structured way, and ends with a paragraph (2-3 sentences) of conclusion.\n",
    "\t•\tWarm yet professional: Speak with kindness, avoiding overly clinical or detached language.\n",
    "\t•\tNon-judgmental & supportive: Caregiving is challenging—reassure the user that they are doing their best.\n",
    "\t•\tUse proper in text citations to reference the sources and support your statements. In format of \"[<index>]\" (e.g. \"[1]\", \"[2]\", \"[3]\", etc.).\n",
    "\n",
    "# Context\n",
    "\n",
    "The caregiver's current query:\n",
    "{question}\n",
    "\"\"\"\n"
   ]
  },
  {
   "cell_type": "markdown",
   "metadata": {},
   "source": [
    "Initiate OpenAI Callable API and check health status"
   ]
  },
  {
   "cell_type": "code",
   "execution_count": 11,
   "metadata": {},
   "outputs": [
    {
     "data": {
      "text/plain": [
       "AIMessage(content=\"Thank you so much for checking in—your kindness really shines through, and it's clear you care deeply for others. Being a caregiver for someone with Alzheimer's Disease or another form of dementia can be both rewarding and incredibly challenging, and it's important to acknowledge the emotional weight you may be carrying.\\n\\nAs for your question, I’m here to support you and provide guidance, whether you need practical advice, emotional support, or just someone to talk to. Please feel free to share any concerns or questions you have about caregiving, and know that you are not alone on this journey.\\n\\nRemember, taking care of yourself is just as important as caring for your loved one. Reaching out, as you have done, is a strong and compassionate step. How can I assist you today?\", additional_kwargs={'refusal': None}, response_metadata={'token_usage': {'completion_tokens': 154, 'prompt_tokens': 260, 'total_tokens': 414, 'completion_tokens_details': {'accepted_prediction_tokens': 0, 'audio_tokens': 0, 'reasoning_tokens': 0, 'rejected_prediction_tokens': 0}, 'prompt_tokens_details': {'audio_tokens': 0, 'cached_tokens': 0}}, 'model_name': 'gpt-4.1-2025-04-14', 'system_fingerprint': 'fp_51e1070cf2', 'id': 'chatcmpl-BxKdxWXs8XMtAIfBaxzQ0l2hN9NG2', 'finish_reason': 'stop', 'logprobs': None}, id='run-cd503464-21ba-48e8-9b40-56e2eca0358f-0', usage_metadata={'input_tokens': 260, 'output_tokens': 154, 'total_tokens': 414, 'input_token_details': {'audio': 0, 'cache_read': 0}, 'output_token_details': {'audio': 0, 'reasoning': 0}})"
      ]
     },
     "execution_count": 11,
     "metadata": {},
     "output_type": "execute_result"
    }
   ],
   "source": [
    "from dotenv import load_dotenv\n",
    "from langchain.chat_models import init_chat_model\n",
    "from langchain_core.prompts import PromptTemplate\n",
    "\n",
    "load_dotenv()\n",
    "\n",
    "gpt = init_chat_model(gpt_model_name, model_provider=\"openai\", temperature=0.6)\n",
    "\n",
    "prompt = PromptTemplate(\n",
    "    input_variables=[\"question\"],\n",
    "    template=PROMPT,\n",
    ")\n",
    "\n",
    "chain = prompt | gpt\n",
    "\n",
    "chain.invoke({\"question\": \"Hello, how are you?\"})"
   ]
  },
  {
   "cell_type": "code",
   "execution_count": 12,
   "metadata": {},
   "outputs": [
    {
     "name": "stdout",
     "output_type": "stream",
     "text": [
      "Processed 0 questions\n",
      "Processed 1 questions\n",
      "Processed 2 questions\n",
      "Processed 3 questions\n",
      "Processed 4 questions\n",
      "Processed 5 questions\n",
      "Processed 6 questions\n",
      "Processed 7 questions\n",
      "Processed 8 questions\n",
      "Processed 9 questions\n",
      "Processed 10 questions\n",
      "Processed 11 questions\n",
      "Processed 12 questions\n",
      "Processed 13 questions\n",
      "Processed 14 questions\n",
      "Processed 15 questions\n",
      "Processed 16 questions\n",
      "Processed 17 questions\n",
      "Processed 18 questions\n",
      "Processed 19 questions\n",
      "Processed 20 questions\n",
      "Processed 21 questions\n",
      "Processed 22 questions\n",
      "Processed 23 questions\n",
      "Processed 24 questions\n",
      "Processed 25 questions\n",
      "Processed 26 questions\n",
      "Processed 27 questions\n",
      "Processed 28 questions\n",
      "Processed 29 questions\n",
      "Processed 30 questions\n",
      "Processed 31 questions\n",
      "Processed 32 questions\n",
      "Processed 33 questions\n",
      "Processed 34 questions\n",
      "Processed 35 questions\n",
      "Processed 36 questions\n",
      "Processed 37 questions\n",
      "Processed 38 questions\n",
      "Processed 39 questions\n",
      "Processed 40 questions\n",
      "Processed 41 questions\n",
      "Processed 42 questions\n",
      "Processed 43 questions\n",
      "Processed 44 questions\n",
      "Processed 45 questions\n",
      "Processed 46 questions\n",
      "Processed 47 questions\n",
      "Processed 48 questions\n",
      "Processed 49 questions\n",
      "Processed 50 questions\n",
      "Processed 51 questions\n",
      "Processed 52 questions\n",
      "Processed 53 questions\n",
      "Processed 54 questions\n",
      "Processed 55 questions\n",
      "Processed 56 questions\n",
      "Processed 57 questions\n",
      "Processed 58 questions\n",
      "Processed 59 questions\n",
      "Processed 60 questions\n",
      "Processed 61 questions\n",
      "Processed 62 questions\n",
      "Processed 63 questions\n",
      "Processed 64 questions\n",
      "Processed 65 questions\n",
      "['Thank you for reaching out with this important question. Caring for someone with dementia can feel overwhelming at times, and it’s wonderful that you’re looking for ways to bring joy and engagement into their daily life. Meaningful activities not only help maintain skills but also boost mood and foster connection.\\n\\nHere are some dementia-friendly activities, organized by type and tailored to various stages of the disease:\\n\\n1. **Sensory Activities**\\n   - Folding soft towels, handling textured fabrics, or exploring sensory boxes with safe objects can be calming and enjoyable.\\n   - Listening to familiar music or nature sounds often evokes positive emotions and memories.\\n\\n2. **Creative Expression**\\n   - Simple arts and crafts like coloring, painting, or arranging flowers allow for self-expression without pressure for perfection.\\n   - Looking through photo albums or creating a memory scrapbook can stimulate conversation and reminiscence.\\n\\n3. **Physical Activities**\\n   - Gentle exercises such as walking, chair yoga, or stretching help maintain mobility and reduce agitation.\\n   - Dancing to favorite songs or tossing a soft ball back and forth can be fun and safe.\\n\\n4. **Everyday Tasks**\\n   - Helping with light chores like setting the table, sorting laundry, or watering plants provides a sense of purpose and accomplishment.\\n   - Baking simple recipes together (even just stirring or adding ingredients) can be both stimulating and rewarding.\\n\\n5. **Cognitive Engagement**\\n   - Puzzles with large pieces, sorting games, or matching cards can engage the mind without causing frustration.\\n   - Reading aloud or listening to short stories or poems is another way to connect and stimulate memory.\\n\\nWhen choosing activities, try to match them to your loved one’s current abilities and interests, and be flexible—what matters most is the enjoyment and sense of connection, not the outcome or completion of the activity [1][2][3].\\n\\nRemember, your efforts make a real difference, and it’s okay if some days are easier than others. By offering opportunities for engagement, you’re helping your loved one experience moments of happiness and connection. If you need more tailored suggestions, feel free to share more about their interests or abilities.\\n\\n**References:**  \\n[1] Alzheimer’s Association. \"Activities at Home.\" https://www.alz.org/help-support/caregiving/daily-care/activities  \\n[2] National Institute on Aging. \"Activities for People with Alzheimer’s Disease.\" https://www.nia.nih.gov/health/activities-people-alzheimers-disease  \\n[3] Dementia UK. \"Meaningful activities for people with dementia.\" https://www.dementiauk.org/get-support/maintaining-health-in-dementia/meaningful-activities-for-people-with-dementia/', \"Caring for a loved one with advanced Alzheimer's disease can be deeply emotional and often overwhelming. It's natural to seek comfort and clarity when considering hospice care, and your concern for their well-being truly shows your dedication. Hospice can offer significant support at this stage, both for your loved one and your family.\\n\\nHere are some key benefits of hospice care for individuals with advanced Alzheimer's disease:\\n\\n1. **Comfort-Focused Care**: Hospice prioritizes symptom management, pain relief, and emotional comfort, helping to ease distress from agitation, discomfort, or other symptoms common in late-stage Alzheimer's [1].\\n2. **Personalized Support**: A multidisciplinary team—including nurses, social workers, chaplains, and aides—tailors care plans based on your loved one's unique needs and preferences, ensuring dignity and respect [2].\\n3. **Caregiver Relief and Guidance**: Hospice professionals provide training, respite care, and emotional support for caregivers, reducing feelings of isolation and burnout [3].\\n4. **Home-Based Services**: Hospice care is often delivered at home or in familiar settings, allowing your loved one to remain in a comforting environment surrounded by loved ones [2].\\n5. **Holistic Approach**: Beyond medical needs, hospice addresses spiritual, psychological, and practical needs, supporting both the patient and family members through the end-of-life journey [1].\\n\\nChoosing hospice care is a compassionate decision that can enhance your loved one's quality of life and provide you with much-needed support. Remember, seeking help is a sign of strength, and you are not alone on this path—there are dedicated professionals ready to walk alongside you every step of the way.\\n\\n**References**  \\n[1] National Institute on Aging. (2021). Providing Care for Someone with Alzheimer's Disease.  \\n[2] Alzheimer's Association. (2024). End-of-Life Care.  \\n[3] National Hospice and Palliative Care Organization. (2023). Hospice Care and Alzheimer’s Disease.\", 'Caring for a loved one with Alzheimer\\'s can be deeply rewarding but also emotionally taxing, especially when family members have differing opinions or expectations. It\\'s completely normal to feel overwhelmed or frustrated as you try to balance everyone\\'s needs while focusing on your loved one\\'s well-being. Remember, you are not alone in this, and seeking support is a sign of strength.\\n\\nTo navigate difficult family dynamics, consider these steps:  \\n1. **Open Communication**: Hold regular family meetings to share updates about your loved one\\'s condition and discuss care plans openly. Encourage everyone to express their feelings and concerns in a respectful way [1].  \\n2. **Set Clear Boundaries and Roles**: Define each family member\\'s responsibilities to avoid misunderstandings. If possible, match tasks to each person\\'s strengths and availability [2].  \\n3. **Seek Outside Support**: Sometimes, involving a neutral third party like a social worker, counselor, or mediator can help resolve conflicts and keep the focus on your loved one\\'s needs [2].  \\n4. **Practice Self-Care and Compassion**: Recognize your own limits and give yourself permission to take breaks. Remember, caring for yourself helps you care better for others [3].  \\n5. **Educate Family Members**: Share information about Alzheimer\\'s disease so everyone understands the challenges and behaviors associated with it, which can foster empathy and reduce blame or frustration [1].\\n\\nNavigating family dynamics is rarely easy, but by fostering open communication and leaning on outside resources when needed, you can create a more supportive environment for both your loved one and yourself. You are doing incredibly important work, and it\\'s okay to ask for help along the way.\\n\\n**References:**  \\n[1] Alzheimer\\'s Association. \"Caregiver Stress: Tips for Taking Care of Yourself.\"  \\n[2] Family Caregiver Alliance. \"Caregiver’s Guide to Understanding Dementia Behaviors.\"  \\n[3] Mayo Clinic. \"Alzheimer\\'s: Tips for Caregivers.\"', 'Thank you for reaching out with this important question. Noticing early signs of dementia in a loved one can be worrying and even overwhelming, but it’s a crucial step toward getting the right support and care. You are showing great compassion and responsibility by seeking information—remember, you’re not alone on this journey.\\n\\nEarly signs of dementia can be subtle and may vary from person to person, but some common symptoms to watch for include:\\n\\n1. **Memory loss** that disrupts daily life—such as forgetting recently learned information or important dates [1].\\n2. **Difficulty performing familiar tasks** at home, work, or leisure, like managing a budget or following a recipe [1][2].\\n3. **Challenges with language**, including trouble finding the right words or following conversations [1].\\n4. **Disorientation to time or place**, such as losing track of dates, seasons, or where they are [1].\\n5. **Poor judgment or decision-making**, for example, giving away large sums of money or neglecting personal hygiene [2].\\n6. **Changes in mood or personality**, including becoming confused, suspicious, depressed, or anxious [1].\\n7. **Withdrawal from work or social activities**, possibly due to difficulties keeping up with conversations or hobbies [1].\\n\\nIf you notice any of these signs in your loved one, it’s important to consult a healthcare professional for a thorough assessment. Remember, you are doing an incredible job by seeking help and staying informed—early recognition can make a meaningful difference in care and quality of life for both you and your loved one.\\n\\n**References:**  \\n[1] Alzheimer’s Association. 10 Early Signs and Symptoms of Alzheimer’s. https://www.alz.org/alzheimers-dementia/10_signs  \\n[2] Mayo Clinic. Dementia. https://www.mayoclinic.org/diseases-conditions/dementia/symptoms-causes/syc-20352013', \"Thank you for reaching out with this important question. Navigating care options like palliative care and hospice can feel overwhelming, especially when supporting a loved one with advanced dementia. Please know that your efforts to seek the best possible care show deep compassion and commitment.\\n\\n**1. Differences between Palliative Care and Hospice:**  \\n- **Palliative care** is specialized medical care focused on providing relief from the symptoms, pain, and stress of a serious illness—at any stage and alongside curative treatments. It can begin at diagnosis and continue throughout the course of the illness [1].  \\n- **Hospice care** is a specific type of palliative care for patients who are nearing the end of life, typically when life expectancy is six months or less and curative treatments have stopped [2].\\n\\n**2. How Palliative Care Improves Quality of Life in Advanced Dementia:**  \\n- **Symptom Management:** Palliative care teams help manage distressing symptoms such as pain, agitation, shortness of breath, and swallowing difficulties, which are common in advanced dementia [1][3].  \\n- **Emotional and Practical Support:** They provide emotional support to both the person with dementia and their caregivers, helping to address anxiety, depression, and caregiver stress [3].  \\n- **Care Coordination:** Palliative care specialists assist in coordinating care, aligning medical treatments with the individual's values and goals, and facilitating difficult conversations about future care preferences [2].  \\n- **Enhanced Comfort:** The focus is on comfort and dignity, ensuring the person feels as peaceful and supported as possible [1][3].\\n\\nRemember, choosing palliative or hospice care is not about giving up hope—it's about prioritizing comfort, dignity, and the best possible quality of life. You are doing a wonderful job by exploring these options, and reaching out for support is a vital step in this journey.\\n\\n**References:**  \\n[1] National Institute on Aging. (2021). What Are Palliative Care and Hospice Care?  \\n[2] Alzheimer’s Association. (2023). End-of-life care for people with dementia.  \\n[3] Torke, A. M., et al. (2010). Palliative care for patients with dementia: A national survey. Journal of the American Geriatrics Society.\"]\n"
     ]
    }
   ],
   "source": [
    "from langchain_core.messages import BaseMessage\n",
    "\n",
    "res_list = []\n",
    "\n",
    "for idx, question in enumerate(question_array):\n",
    "    response: BaseMessage = chain.invoke({\"question\": question})\n",
    "\n",
    "    res_list.append(response.content)\n",
    "    print(f\"Processed {idx} questions\")\n",
    "\n",
    "print(res_list[:5])"
   ]
  },
  {
   "cell_type": "markdown",
   "metadata": {},
   "source": [
    "Persist to database"
   ]
  },
  {
   "cell_type": "code",
   "execution_count": 13,
   "metadata": {},
   "outputs": [],
   "source": [
    "test_df.loc[:, dataframe_column_name] = res_list\n",
    "\n",
    "test_df.to_parquet(\"./data/66-test-dataset-with-adrd.parquet\")"
   ]
  },
  {
   "cell_type": "markdown",
   "metadata": {},
   "source": [
    "#### Utils"
   ]
  },
  {
   "cell_type": "markdown",
   "metadata": {},
   "source": [
    "Save dataframe into CSV extension"
   ]
  },
  {
   "cell_type": "code",
   "execution_count": 1,
   "metadata": {},
   "outputs": [],
   "source": [
    "import pandas as pd\n",
    "\n",
    "file_path = \"./data/66-test-dataset-with-adrd.parquet\"\n",
    "\n",
    "pd.read_parquet(file_path).to_csv(file_path.replace(\".parquet\", \".csv\"), index=False)"
   ]
  }
 ],
 "metadata": {
  "kernelspec": {
   "display_name": "CaLM",
   "language": "python",
   "name": "python3"
  },
  "language_info": {
   "codemirror_mode": {
    "name": "ipython",
    "version": 3
   },
   "file_extension": ".py",
   "mimetype": "text/x-python",
   "name": "python",
   "nbconvert_exporter": "python",
   "pygments_lexer": "ipython3",
   "version": "3.12.10"
  }
 },
 "nbformat": 4,
 "nbformat_minor": 2
}
