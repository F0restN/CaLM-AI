{
 "cells": [
  {
   "cell_type": "markdown",
   "metadata": {},
   "source": [
    "## AI Memory Sytem\n",
    "\n",
    "This is the demonstration of ai memory system\n",
    "\n",
    "<img src=\"../public/Memory.png\" width=100% height=500 />"
   ]
  },
  {
   "cell_type": "code",
   "execution_count": 3,
   "metadata": {},
   "outputs": [
    {
     "name": "stdout",
     "output_type": "stream",
     "text": [
      "HUMAN: hello, how are you ?\n",
      "AI: Omit\n",
      "HUMAN: my dad seems forgetting things more often than before, what should I do ?\n",
      "AI: Activate Memory System\n",
      "AI: The user's care recipient condition is user's dad is experiencing increased forgetfulness.\n",
      "HUMAN: \n",
      "AI: Omit\n",
      "HUMAN: exit\n"
     ]
    }
   ],
   "source": [
    "from classes.Memory import BaseMemory, MemoryItem\n",
    "from memory.memory_proc import memory_extract_decision, summarize_lstm_from_query\n",
    "\n",
    "while True:\n",
    "    # Get user input\n",
    "    query = input(\"User:\")\n",
    "    print(f\"HUMAN: {query}\")\n",
    "\n",
    "    # Exit the loop\n",
    "    if query.upper() == \"EXIT\":\n",
    "        break\n",
    "\n",
    "    isWorthy: bool = memory_extract_decision(query=query)  # noqa: N816\n",
    "    if isWorthy is True:\n",
    "        print(\"AI: Activate Memory System\")\n",
    "        summary: BaseMemory = summarize_lstm_from_query(query=query)\n",
    "\n",
    "        memo = MemoryItem(\n",
    "            **summary.model_dump(),\n",
    "            user_id=\"drake\",\n",
    "            source=\"HUMAN\",\n",
    "        )\n",
    "\n",
    "        print(f\"AI: {memo.convert_to_sentence()}\")\n",
    "    else:\n",
    "        print(\"AI: Omit\")\n",
    "    # print(\"AI:\", summary)\n"
   ]
  }
 ],
 "metadata": {
  "kernelspec": {
   "display_name": "venv",
   "language": "python",
   "name": "python3"
  },
  "language_info": {
   "codemirror_mode": {
    "name": "ipython",
    "version": 3
   },
   "file_extension": ".py",
   "mimetype": "text/x-python",
   "name": "python",
   "nbconvert_exporter": "python",
   "pygments_lexer": "ipython3",
   "version": "3.10.12"
  }
 },
 "nbformat": 4,
 "nbformat_minor": 2
}
