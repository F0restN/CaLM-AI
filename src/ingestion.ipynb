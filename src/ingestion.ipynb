{
 "cells": [
  {
   "cell_type": "code",
   "execution_count": 9,
   "id": "30d96a57",
   "metadata": {},
   "outputs": [],
   "source": [
    "from classes.VectorStore import VectorStore\n",
    "\n",
    "vector_store = VectorStore(collection_name=\"clinical_insights\")"
   ]
  },
  {
   "cell_type": "code",
   "execution_count": 10,
   "id": "1548bdf9",
   "metadata": {},
   "outputs": [],
   "source": [
    "import pandas as pd\n",
    "from langchain_core.documents import Document\n",
    "\n",
    "path = \"data/research/c-nia_nih_gov_articles.csv\"\n",
    "name = \"NIH\"\n",
    "\n",
    "df = pd.read_csv(path, on_bad_lines=\"skip\")\n",
    "\n",
    "list_of_documents = []\n",
    "\n",
    "for index, row in df.iterrows():\n",
    "    title = row[\"title\"]\n",
    "    page_cotent = row[\"content\"]\n",
    "    source = row[\"url\"]\n",
    "\n",
    "    list_of_documents.append(\n",
    "        Document(\n",
    "            page_content=page_cotent,\n",
    "            metadata={\n",
    "                \"title\": title,\n",
    "                \"source\": source,\n",
    "                \"source-type\": name,\n",
    "                \"type\": \"ClinicalInsight\",\n",
    "            },\n",
    "        ),\n",
    "    )"
   ]
  },
  {
   "cell_type": "code",
   "execution_count": 11,
   "id": "886d6d7e",
   "metadata": {},
   "outputs": [
    {
     "name": "stdout",
     "output_type": "stream",
     "text": [
      "Number of documents to be added: 352\n",
      "page_content='Alzheimer’s disease is a brain disorder that slowly destroys memory and thinking skills, and eventually, the ability to carry out the simplest tasks. In most people with Alzheimer’s, symptoms first appear later in life. Estimates vary, but experts suggest that more than 6 million Americans, most of them age 65 or older, may have Alzheimer’s.' metadata={'title': \"Alzheimer's Disease Fact Sheet\", 'source': 'https://www.nia.nih.gov/health/alzheimers-and-dementia/alzheimers-disease-fact-sheet', 'source-type': 'NIH', 'type': 'ClinicalInsight'}\n"
     ]
    }
   ],
   "source": [
    "print(f\"Number of documents to be added: {len(list_of_documents)}\")\n",
    "\n",
    "print(list_of_documents[0])"
   ]
  },
  {
   "cell_type": "code",
   "execution_count": 12,
   "id": "d9e80dd7",
   "metadata": {},
   "outputs": [
    {
     "name": "stdout",
     "output_type": "stream",
     "text": [
      "Added documents 0 to 10 to the vector store.\n",
      "Added documents 10 to 20 to the vector store.\n",
      "Added documents 20 to 30 to the vector store.\n",
      "Added documents 30 to 40 to the vector store.\n",
      "Added documents 40 to 50 to the vector store.\n",
      "Added documents 50 to 60 to the vector store.\n",
      "Added documents 60 to 70 to the vector store.\n",
      "Added documents 70 to 80 to the vector store.\n",
      "Added documents 80 to 90 to the vector store.\n",
      "Added documents 90 to 100 to the vector store.\n",
      "Added documents 100 to 110 to the vector store.\n",
      "Added documents 110 to 120 to the vector store.\n",
      "Added documents 120 to 130 to the vector store.\n",
      "Added documents 130 to 140 to the vector store.\n",
      "Added documents 140 to 150 to the vector store.\n",
      "Added documents 150 to 160 to the vector store.\n",
      "Added documents 160 to 170 to the vector store.\n",
      "Added documents 170 to 180 to the vector store.\n",
      "Added documents 180 to 190 to the vector store.\n",
      "Added documents 190 to 200 to the vector store.\n",
      "Added documents 200 to 210 to the vector store.\n",
      "Added documents 210 to 220 to the vector store.\n",
      "Added documents 220 to 230 to the vector store.\n",
      "Added documents 230 to 240 to the vector store.\n",
      "Added documents 240 to 250 to the vector store.\n",
      "Added documents 250 to 260 to the vector store.\n",
      "Added documents 260 to 270 to the vector store.\n",
      "Added documents 270 to 280 to the vector store.\n",
      "Added documents 280 to 290 to the vector store.\n",
      "Added documents 290 to 300 to the vector store.\n",
      "Added documents 300 to 310 to the vector store.\n",
      "Added documents 310 to 320 to the vector store.\n",
      "Added documents 320 to 330 to the vector store.\n",
      "Added documents 330 to 340 to the vector store.\n",
      "Added documents 340 to 350 to the vector store.\n",
      "Added documents 350 to 360 to the vector store.\n",
      "Added 352 documents to the vector store.\n"
     ]
    }
   ],
   "source": [
    "# Split array into 10 subarray to aovid timeout issues\n",
    "for i in range(0, len(list_of_documents), 10):\n",
    "    try:\n",
    "        vector_store.add_documents(list_of_documents[i : i + 10])\n",
    "        print(f\"Added documents {i} to {i + 10} to the vector store.\")\n",
    "    except Exception as e:  # noqa: PERF203\n",
    "        print(f\"Error adding documents {i} to {i + 10}: {e}\")\n",
    "        break\n",
    "\n",
    "print(f\"Added {len(list_of_documents)} documents to the vector store.\")"
   ]
  }
 ],
 "metadata": {
  "kernelspec": {
   "display_name": ".venv",
   "language": "python",
   "name": "python3"
  },
  "language_info": {
   "codemirror_mode": {
    "name": "ipython",
    "version": 3
   },
   "file_extension": ".py",
   "mimetype": "text/x-python",
   "name": "python",
   "nbconvert_exporter": "python",
   "pygments_lexer": "ipython3",
   "version": "3.12.10"
  }
 },
 "nbformat": 4,
 "nbformat_minor": 5
}
